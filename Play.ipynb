{
 "cells": [
  {
   "cell_type": "code",
   "execution_count": 2,
   "id": "df806efb",
   "metadata": {},
   "outputs": [
    {
     "name": "stdout",
     "output_type": "stream",
     "text": [
      "Mono path[0] = '/Users/cassimiro/code/projects/rl-robot-movement/p2_continuous-control/Reacher_20.app/Contents/Resources/Data/Managed'\n",
      "Mono config path = '/Users/cassimiro/code/projects/rl-robot-movement/p2_continuous-control/Reacher_20.app/Contents/MonoBleedingEdge/etc'\n"
     ]
    },
    {
     "name": "stderr",
     "output_type": "stream",
     "text": [
      "INFO:unityagents:\n",
      "'Academy' started successfully!\n",
      "Unity Academy name: Academy\n",
      "        Number of Brains: 1\n",
      "        Number of External Brains : 1\n",
      "        Lesson number : 0\n",
      "        Reset Parameters :\n",
      "\t\tgoal_size -> 5.0\n",
      "\t\tgoal_speed -> 1.0\n",
      "Unity brain name: ReacherBrain\n",
      "        Number of Visual Observations (per agent): 0\n",
      "        Vector Observation space type: continuous\n",
      "        Vector Observation space size (per agent): 33\n",
      "        Number of stacked Vector Observation: 1\n",
      "        Vector Action space type: continuous\n",
      "        Vector Action space size (per agent): 4\n",
      "        Vector Action descriptions: , , , \n",
      "\n",
      "KeyboardInterrupt\n",
      "\n"
     ]
    }
   ],
   "source": [
    "import torch\n",
    "from unityagents import UnityEnvironment\n",
    "from ddpg import DDPG\n",
    "\n",
    "def play(agent, env, brain_name, num_agents, episodes=5, max_steps=1000, load_actor_weights=None, load_critic_weights=None):\n",
    "    if load_actor_weights is not None:\n",
    "        agent.actor.load_state_dict(torch.load(load_actor_weights))\n",
    "    if load_critic_weights is not None:\n",
    "        agent.critic.load_state_dict(torch.load(load_critic_weights))\n",
    "\n",
    "    for episode in range(1, episodes + 1):\n",
    "        env_info = env.reset(train_mode=False)[brain_name]\n",
    "        states = env_info.vector_observations\n",
    "        agent_scores = np.zeros(num_agents)\n",
    "\n",
    "        for step in range(max_steps):\n",
    "            actions = np.array([agent.act(states[i], noise=0.0) for i in range(num_agents)])\n",
    "            env_info = env.step(actions)[brain_name]\n",
    "            next_states = env_info.vector_observations\n",
    "            rewards = env_info.rewards\n",
    "            dones = env_info.local_done\n",
    "\n",
    "            states = next_states\n",
    "            agent_scores += rewards\n",
    "\n",
    "            if np.any(dones):\n",
    "                break\n",
    "\n",
    "        print(f\"Episode {episode}, Score: {np.mean(agent_scores):.2f}\")\n",
    "\n",
    "if __name__ == \"__main__\":\n",
    "    env = UnityEnvironment(file_name='Reacher_20.app')\n",
    "    brain_name = env.brain_names[0]\n",
    "    brain = env.brains[brain_name]\n",
    "    num_agents = 20\n",
    "\n",
    "    state_dim = 33\n",
    "    action_dim = brain.vector_action_space_size\n",
    "\n",
    "    hidden_dim = 400\n",
    "    batch_size = 256\n",
    "    actor_lr = 5e-4\n",
    "    critic_lr = 1e-3\n",
    "    tau = 5e-3\n",
    "    gamma = 0.995\n",
    "\n",
    "    agent = DDPG(state_dim, action_dim, hidden_dim=hidden_dim, buffer_size=200000, batch_size=batch_size,\n",
    "                 actor_lr=actor_lr, critic_lr=critic_lr, tau=tau, gamma=gamma)\n",
    "\n",
    "    play(agent, env, brain_name, num_agents, episodes=5, max_steps=200, load_actor_weights=\"actor_final.pth\", load_critic_weights=\"critic_final.pth\")\n"
   ]
  }
 ],
 "metadata": {
  "kernelspec": {
   "display_name": "Python 3 (ipykernel)",
   "language": "python",
   "name": "python3"
  },
  "language_info": {
   "codemirror_mode": {
    "name": "ipython",
    "version": 3
   },
   "file_extension": ".py",
   "mimetype": "text/x-python",
   "name": "python",
   "nbconvert_exporter": "python",
   "pygments_lexer": "ipython3",
   "version": "3.8.12"
  },
  "toc": {
   "base_numbering": 1,
   "nav_menu": {},
   "number_sections": true,
   "sideBar": true,
   "skip_h1_title": false,
   "title_cell": "Table of Contents",
   "title_sidebar": "Contents",
   "toc_cell": false,
   "toc_position": {},
   "toc_section_display": true,
   "toc_window_display": false
  }
 },
 "nbformat": 4,
 "nbformat_minor": 5
}
